{
  "nbformat": 4,
  "nbformat_minor": 0,
  "metadata": {
    "colab": {
      "name": "RandomForest.ipynb",
      "version": "0.3.2",
      "provenance": [],
      "collapsed_sections": [],
      "include_colab_link": true
    },
    "kernelspec": {
      "name": "python3",
      "display_name": "Python 3"
    },
    "accelerator": "GPU"
  },
  "cells": [
    {
      "cell_type": "markdown",
      "metadata": {
        "id": "view-in-github",
        "colab_type": "text"
      },
      "source": [
        "<a href=\"https://colab.research.google.com/github/jubinmehta08/10-steps-to-become-a-data-scientist/blob/master/RandomForest.ipynb\" target=\"_parent\"><img src=\"https://colab.research.google.com/assets/colab-badge.svg\" alt=\"Open In Colab\"/></a>"
      ]
    },
    {
      "cell_type": "markdown",
      "metadata": {
        "id": "gBS0ybHVXbyA",
        "colab_type": "text"
      },
      "source": [
        "# Introduction to Random Forest Algorithm with Python"
      ]
    },
    {
      "cell_type": "markdown",
      "metadata": {
        "id": "yBCedotafa9X",
        "colab_type": "text"
      },
      "source": [
        "![](https://cdn-images-1.medium.com/max/2000/1*iIx75bixLRbE45mXkH2oCg.png/)"
      ]
    },
    {
      "cell_type": "markdown",
      "metadata": {
        "id": "cmAEBZEyX0jz",
        "colab_type": "text"
      },
      "source": [
        "Random forest algorithm has become the most common algorithm to be used in ML competitions like Kaggle competitions, If you ever search for an easy to use and accurate ML algorithm, you will absolutely get random forest in the top results.\n",
        "To understand Random forest algorithm you have to be familiar with decision trees at first .\n"
      ]
    },
    {
      "cell_type": "markdown",
      "metadata": {
        "id": "Ecxpu093YGFz",
        "colab_type": "text"
      },
      "source": [
        "## What are Decision Trees?\n",
        "*\tDecision trees are predictive models that use a set of binary rules to\n",
        "calculate a target value.  \n",
        "*\tThere are two types of decision trees are classification trees and regression\n",
        "trees.\n",
        "*\tClassification trees are used to create categorical data sets such as land cover\n",
        "classification\n",
        "*\tRegression trees are used to create continuous data sets such as biomass and\n",
        "percent tree cover.\n",
        "*\tEach individual tree is a fairly simple model that has branches, nodes and leaves.\n",
        "*\t The nodes contain the attributes the objective function depends on.\n",
        "\n"
      ]
    },
    {
      "cell_type": "markdown",
      "metadata": {
        "id": "2ZnpzjGDYTn0",
        "colab_type": "text"
      },
      "source": [
        "Now after you got familiar with decision trees, you are ready to understand random forest.\n",
        "\n",
        "## What is Random Forest?\n",
        "As Leo Breiman defined it in the [research paper](https://medium.com/r/?url=https%3A%2F%2Fwww.stat.berkeley.edu%2F~breiman%2Frandomforest2001.pdf), “ Random forests are a combination of tree predictors such that each tree depends on the values of a random vector sampled independently and with the same distribution for all trees in the forest ”\n",
        "\n",
        "Another definition “A random forest is a classifier consisting of a collection of tree structured classifiers {h(x,Θk ), k=1, ...} where the {Θk} are independent identically distributed random vectors and each tree casts a unit vote for the most popular class at input x ”\n",
        "Briefly, Random forest builds multiple decision trees and merges them together to get a more accurate and stable prediction. \n"
      ]
    },
    {
      "cell_type": "markdown",
      "metadata": {
        "id": "v92kOY_pf7UJ",
        "colab_type": "text"
      },
      "source": [
        "## Advantages of Random Forests\n",
        "*\tIt can be used for both classification and regression problems\n",
        "*\tReduction in overfitting: by averaging several trees, there is a significantly lower risk of overfitting.\n",
        "*\tRandom forests make a wrong prediction only when more than half of the base classifiers are wrong\n",
        "*\t It is very easy to measure the relative importance of each feature on the prediction. Sklearn provides a great tool for this\n",
        "\n",
        "Because of that, it is more accurate than most of the other algorithms.\n",
        "\n",
        "## Disadvantages of Random Forests \n",
        "*\tRandom forests have been observed to overfit for some datasets with noisy classification/regression tasks.\n",
        "*\tIt’s more complex and computationally expensive than decision tree algorithm.\n"
      ]
    },
    {
      "cell_type": "markdown",
      "metadata": {
        "id": "srTTMZkAgNlf",
        "colab_type": "text"
      },
      "source": [
        "## Important Terminology related to Decision Trees [[1]](https://www.analyticsvidhya.com/blog/2016/04/complete-tutorial-tree-based-modeling-scratch-in-python/)\n",
        "\n",
        "Let's look at the basic terminology used with decision trees and random forests :\n",
        "1.\tRoot Node: It represents entire population or sample and this further gets divided into two or more homogeneous sets.\n",
        "2.\tSplitting: It is a process of dividing a node into two or more sub-nodes.\n",
        "3.\tDecision Node: When a sub-node splits into further sub-nodes, then it is called decision node.\n",
        "4.\tLeaf/ Terminal Node: Nodes do not split is called Leaf or Terminal node.\n",
        "5.\tPruning: When we remove sub-nodes of a decision node, this process is called pruning. You can say opposite process of splitting.\n",
        "6.\tBranch / Sub-Tree: A sub section of entire tree is called branch or sub-tree.\n",
        "7.\tParent and Child Node: A node, which is divided into sub-nodes is called parent node of sub-nodes where as sub-nodes are the child of parent node.\n"
      ]
    },
    {
      "cell_type": "markdown",
      "metadata": {
        "id": "svIZEMP-XbFB",
        "colab_type": "text"
      },
      "source": [
        "After we got to know some essentials about random forests, let us use this algorithm in some dataset, In our case we will use  [Kaggle's titanic survivors dataset](https://www.kaggle.com/c/titanic/data)\n",
        " that I preprocessed before\n",
        "\n",
        "And then we will use a neural network to compare the results."
      ]
    },
    {
      "cell_type": "markdown",
      "metadata": {
        "id": "e4syv3jgZYSm",
        "colab_type": "text"
      },
      "source": [
        "## Import needed dependencies :"
      ]
    },
    {
      "cell_type": "code",
      "metadata": {
        "id": "Syg4fgOvQALJ",
        "colab_type": "code",
        "outputId": "a030d150-dfef-4425-9e09-ad5a65b3a268",
        "colab": {
          "base_uri": "https://localhost:8080/",
          "height": 35
        }
      },
      "source": [
        "from sklearn.model_selection import train_test_split\n",
        "import pandas as pd\n",
        "import numpy as np\n",
        "from keras.models import Sequential\n",
        "from keras.layers import Dense, Activation, Flatten\n",
        "from sklearn.ensemble import RandomForestClassifier\n",
        "from sklearn.metrics import f1_score\n",
        "from sklearn.metrics import accuracy_score\n",
        "from keras.callbacks import ModelCheckpoint\n",
        "from sklearn.metrics import accuracy_score"
      ],
      "execution_count": 0,
      "outputs": [
        {
          "output_type": "stream",
          "text": [
            "Using TensorFlow backend.\n"
          ],
          "name": "stderr"
        }
      ]
    },
    {
      "cell_type": "markdown",
      "metadata": {
        "id": "OTLE1A0ZbTDd",
        "colab_type": "text"
      },
      "source": [
        "## Load the preprocessed dataset:"
      ]
    },
    {
      "cell_type": "markdown",
      "metadata": {
        "id": "b8CXOZ-ab2Gq",
        "colab_type": "text"
      },
      "source": [
        "Download the preprocessed dataset [Download](https://drive.google.com/file/d/1rzbDYv3tYLQ7J-P3cgG7mHVwxWzgBwdr/view?usp=sharing)"
      ]
    },
    {
      "cell_type": "code",
      "metadata": {
        "id": "LGt7WGTqQQha",
        "colab_type": "code",
        "colab": {}
      },
      "source": [
        "dataset =pd.read_csv('TitanicPreprocessed.csv') "
      ],
      "execution_count": 0,
      "outputs": []
    },
    {
      "cell_type": "code",
      "metadata": {
        "id": "6Pf_uuWPXQ3e",
        "colab_type": "code",
        "outputId": "f754cd97-90f0-4f1e-9361-d690a3242a8c",
        "colab": {
          "base_uri": "https://localhost:8080/",
          "height": 247
        }
      },
      "source": [
        "dataset.head()"
      ],
      "execution_count": 0,
      "outputs": [
        {
          "output_type": "execute_result",
          "data": {
            "text/html": [
              "<div>\n",
              "<style scoped>\n",
              "    .dataframe tbody tr th:only-of-type {\n",
              "        vertical-align: middle;\n",
              "    }\n",
              "\n",
              "    .dataframe tbody tr th {\n",
              "        vertical-align: top;\n",
              "    }\n",
              "\n",
              "    .dataframe thead th {\n",
              "        text-align: right;\n",
              "    }\n",
              "</style>\n",
              "<table border=\"1\" class=\"dataframe\">\n",
              "  <thead>\n",
              "    <tr style=\"text-align: right;\">\n",
              "      <th></th>\n",
              "      <th>Sex</th>\n",
              "      <th>Age</th>\n",
              "      <th>SibSp</th>\n",
              "      <th>Parch</th>\n",
              "      <th>Fare</th>\n",
              "      <th>Title_Master</th>\n",
              "      <th>Title_Miss</th>\n",
              "      <th>Title_Mr</th>\n",
              "      <th>Title_Mrs</th>\n",
              "      <th>Title_Officer</th>\n",
              "      <th>...</th>\n",
              "      <th>Ticket_STONOQ</th>\n",
              "      <th>Ticket_SWPP</th>\n",
              "      <th>Ticket_WC</th>\n",
              "      <th>Ticket_WEP</th>\n",
              "      <th>Ticket_XXX</th>\n",
              "      <th>FamilySize</th>\n",
              "      <th>Singleton</th>\n",
              "      <th>SmallFamily</th>\n",
              "      <th>LargeFamily</th>\n",
              "      <th>Survived</th>\n",
              "    </tr>\n",
              "  </thead>\n",
              "  <tbody>\n",
              "    <tr>\n",
              "      <th>0</th>\n",
              "      <td>1</td>\n",
              "      <td>22.0</td>\n",
              "      <td>1</td>\n",
              "      <td>0</td>\n",
              "      <td>7.2500</td>\n",
              "      <td>0</td>\n",
              "      <td>0</td>\n",
              "      <td>1</td>\n",
              "      <td>0</td>\n",
              "      <td>0</td>\n",
              "      <td>...</td>\n",
              "      <td>0</td>\n",
              "      <td>0</td>\n",
              "      <td>0</td>\n",
              "      <td>0</td>\n",
              "      <td>0</td>\n",
              "      <td>2</td>\n",
              "      <td>0</td>\n",
              "      <td>1</td>\n",
              "      <td>0</td>\n",
              "      <td>0</td>\n",
              "    </tr>\n",
              "    <tr>\n",
              "      <th>1</th>\n",
              "      <td>0</td>\n",
              "      <td>38.0</td>\n",
              "      <td>1</td>\n",
              "      <td>0</td>\n",
              "      <td>71.2833</td>\n",
              "      <td>0</td>\n",
              "      <td>0</td>\n",
              "      <td>0</td>\n",
              "      <td>1</td>\n",
              "      <td>0</td>\n",
              "      <td>...</td>\n",
              "      <td>0</td>\n",
              "      <td>0</td>\n",
              "      <td>0</td>\n",
              "      <td>0</td>\n",
              "      <td>0</td>\n",
              "      <td>2</td>\n",
              "      <td>0</td>\n",
              "      <td>1</td>\n",
              "      <td>0</td>\n",
              "      <td>1</td>\n",
              "    </tr>\n",
              "    <tr>\n",
              "      <th>2</th>\n",
              "      <td>0</td>\n",
              "      <td>26.0</td>\n",
              "      <td>0</td>\n",
              "      <td>0</td>\n",
              "      <td>7.9250</td>\n",
              "      <td>0</td>\n",
              "      <td>1</td>\n",
              "      <td>0</td>\n",
              "      <td>0</td>\n",
              "      <td>0</td>\n",
              "      <td>...</td>\n",
              "      <td>0</td>\n",
              "      <td>0</td>\n",
              "      <td>0</td>\n",
              "      <td>0</td>\n",
              "      <td>0</td>\n",
              "      <td>1</td>\n",
              "      <td>0</td>\n",
              "      <td>0</td>\n",
              "      <td>0</td>\n",
              "      <td>1</td>\n",
              "    </tr>\n",
              "    <tr>\n",
              "      <th>3</th>\n",
              "      <td>0</td>\n",
              "      <td>35.0</td>\n",
              "      <td>1</td>\n",
              "      <td>0</td>\n",
              "      <td>53.1000</td>\n",
              "      <td>0</td>\n",
              "      <td>0</td>\n",
              "      <td>0</td>\n",
              "      <td>1</td>\n",
              "      <td>0</td>\n",
              "      <td>...</td>\n",
              "      <td>0</td>\n",
              "      <td>0</td>\n",
              "      <td>0</td>\n",
              "      <td>0</td>\n",
              "      <td>1</td>\n",
              "      <td>2</td>\n",
              "      <td>0</td>\n",
              "      <td>1</td>\n",
              "      <td>0</td>\n",
              "      <td>1</td>\n",
              "    </tr>\n",
              "    <tr>\n",
              "      <th>4</th>\n",
              "      <td>1</td>\n",
              "      <td>35.0</td>\n",
              "      <td>0</td>\n",
              "      <td>0</td>\n",
              "      <td>8.0500</td>\n",
              "      <td>0</td>\n",
              "      <td>0</td>\n",
              "      <td>1</td>\n",
              "      <td>0</td>\n",
              "      <td>0</td>\n",
              "      <td>...</td>\n",
              "      <td>0</td>\n",
              "      <td>0</td>\n",
              "      <td>0</td>\n",
              "      <td>0</td>\n",
              "      <td>1</td>\n",
              "      <td>1</td>\n",
              "      <td>0</td>\n",
              "      <td>0</td>\n",
              "      <td>0</td>\n",
              "      <td>0</td>\n",
              "    </tr>\n",
              "  </tbody>\n",
              "</table>\n",
              "<p>5 rows × 69 columns</p>\n",
              "</div>"
            ],
            "text/plain": [
              "   Sex   Age  SibSp  Parch     Fare  Title_Master  Title_Miss  Title_Mr  \\\n",
              "0    1  22.0      1      0   7.2500             0           0         1   \n",
              "1    0  38.0      1      0  71.2833             0           0         0   \n",
              "2    0  26.0      0      0   7.9250             0           1         0   \n",
              "3    0  35.0      1      0  53.1000             0           0         0   \n",
              "4    1  35.0      0      0   8.0500             0           0         1   \n",
              "\n",
              "   Title_Mrs  Title_Officer    ...     Ticket_STONOQ  Ticket_SWPP  Ticket_WC  \\\n",
              "0          0              0    ...                 0            0          0   \n",
              "1          1              0    ...                 0            0          0   \n",
              "2          0              0    ...                 0            0          0   \n",
              "3          1              0    ...                 0            0          0   \n",
              "4          0              0    ...                 0            0          0   \n",
              "\n",
              "   Ticket_WEP  Ticket_XXX  FamilySize  Singleton  SmallFamily  LargeFamily  \\\n",
              "0           0           0           2          0            1            0   \n",
              "1           0           0           2          0            1            0   \n",
              "2           0           0           1          0            0            0   \n",
              "3           0           1           2          0            1            0   \n",
              "4           0           1           1          0            0            0   \n",
              "\n",
              "   Survived  \n",
              "0         0  \n",
              "1         1  \n",
              "2         1  \n",
              "3         1  \n",
              "4         0  \n",
              "\n",
              "[5 rows x 69 columns]"
            ]
          },
          "metadata": {
            "tags": []
          },
          "execution_count": 4
        }
      ]
    },
    {
      "cell_type": "code",
      "metadata": {
        "id": "1hkXCEM5XPv7",
        "colab_type": "code",
        "colab": {}
      },
      "source": [
        "y = dataset['Survived']\n",
        "X = dataset.drop(['Survived'], axis = 1)\n",
        "\n",
        "# Split the dataset to trainand test data\n",
        "train_X, test_X, train_y, test_y = train_test_split(X, y, test_size=0.25, random_state=0)"
      ],
      "execution_count": 0,
      "outputs": []
    },
    {
      "cell_type": "markdown",
      "metadata": {
        "id": "ea71LIIVZmTt",
        "colab_type": "text"
      },
      "source": [
        "## Set the parameters for the random forest model :"
      ]
    },
    {
      "cell_type": "code",
      "metadata": {
        "id": "OZWbSS6fJdAa",
        "colab_type": "code",
        "colab": {}
      },
      "source": [
        "parameters = {'bootstrap': True,\n",
        "              'min_samples_leaf': 3,\n",
        "              'n_estimators': 50, \n",
        "              'min_samples_split': 10,\n",
        "              'max_features': 'sqrt',\n",
        "              'max_depth': 6,\n",
        "              'max_leaf_nodes': None}"
      ],
      "execution_count": 0,
      "outputs": []
    },
    {
      "cell_type": "markdown",
      "metadata": {
        "id": "Rshkfa_hO90w",
        "colab_type": "text"
      },
      "source": [
        "## Hyperparameters of Sklearn Random forest classifier[[2]](http://scikit-learn.org/stable/modules/generated/sklearn.ensemble.RandomForestClassifier.html) :\n",
        "\n",
        "*\t**bootstrap** : boolean, optional (default=True)\n",
        "\n",
        "> Whether bootstrap samples are used when building trees.\n",
        "\n",
        "*\t**min_samples_leaf** : int, float, optional (default=1)\n",
        "\n",
        "> The minimum number of samples required to be at a leaf node:\n",
        "\n",
        "> - If int, then consider min_samples_leaf as the minimum number.\n",
        "\n",
        "> - If float, then min_samples_leaf is a percentage and ceil(min_samples_leaf * n_samples) are the minimum number of samples for each node.\n",
        "\n",
        "* **n_estimators** : integer, optional (default=10)\n",
        "> The number of trees in the forest.\n",
        "\n",
        "* \t**min_samples_split** :  int, float, optional (default=2)\n",
        "> The minimum number of samples required to split an internal node:\n",
        "\n",
        "> - If int, then consider min_samples_split as the minimum number.\n",
        "> -\tIf float, then min_samples_split is a percentage and ceil(min_samples_split * n_samples) are the minimum number of samples for each split.\n",
        "\n",
        "*\t**max_features** : int, float, string or None, optional (default=”auto”)\n",
        "> The number of features to consider when looking for the best split:\n",
        "\n",
        "> -\tIf int, then consider max_features features at each split.\n",
        "> -If float, then max_features is a percentage and int(max_features * n_features) features are considered at each split.\n",
        "> -\tIf “auto”, then max_features=sqrt(n_features).\n",
        "> -\tIf “sqrt”, then max_features=sqrt(n_features) (same as “auto”).\n",
        "> -\tIf “log2”, then max_features=log2(n_features).\n",
        "> -\tIf None, then max_features=n_features.\n",
        "\n",
        "\n",
        "*\t**max_depth** :  integer or None, optional (default=None)\n",
        "> The maximum depth of the tree. If None, then nodes are expanded until all leaves are pure or until all leaves contain less than min_samples_split samples.\n",
        "\n",
        "\n",
        "*\t**max_leaf_nodes** : int or None, optional (default=None)\n",
        "> Grow trees with max_leaf_nodes in best-first fashion. Best nodes are defined as relative reduction in impurity. If None then unlimited number of leaf nodes.\n",
        "\n",
        "\n",
        "If you want to learn more about the rest of hyperparameters , check out  [sklearn.ensemble.RandomForestClassifier](http://scikit-learn.org/stable/modules/generated/sklearn.ensemble.RandomForestClassifier.html)"
      ]
    },
    {
      "cell_type": "markdown",
      "metadata": {
        "id": "op9F-SETZyfP",
        "colab_type": "text"
      },
      "source": [
        "## Define the model :"
      ]
    },
    {
      "cell_type": "code",
      "metadata": {
        "id": "nrlHxayCZxqf",
        "colab_type": "code",
        "colab": {}
      },
      "source": [
        "RF_model = RandomForestClassifier(**parameters)"
      ],
      "execution_count": 0,
      "outputs": []
    },
    {
      "cell_type": "markdown",
      "metadata": {
        "id": "Vz6LYxmnZ60C",
        "colab_type": "text"
      },
      "source": [
        "## Train the model :"
      ]
    },
    {
      "cell_type": "code",
      "metadata": {
        "id": "gWiTrBJmaEn8",
        "colab_type": "code",
        "outputId": "e1c9d887-4eb4-46fc-f740-e9dd22a0881c",
        "colab": {
          "base_uri": "https://localhost:8080/",
          "height": 145
        }
      },
      "source": [
        "RF_model.fit(train_X, train_y)"
      ],
      "execution_count": 0,
      "outputs": [
        {
          "output_type": "execute_result",
          "data": {
            "text/plain": [
              "RandomForestClassifier(bootstrap=True, class_weight=None, criterion='gini',\n",
              "            max_depth=6, max_features='sqrt', max_leaf_nodes=None,\n",
              "            min_impurity_decrease=0.0, min_impurity_split=None,\n",
              "            min_samples_leaf=3, min_samples_split=10,\n",
              "            min_weight_fraction_leaf=0.0, n_estimators=50, n_jobs=1,\n",
              "            oob_score=False, random_state=None, verbose=0,\n",
              "            warm_start=False)"
            ]
          },
          "metadata": {
            "tags": []
          },
          "execution_count": 11
        }
      ]
    },
    {
      "cell_type": "markdown",
      "metadata": {
        "id": "XC4sNiZJaf0U",
        "colab_type": "text"
      },
      "source": [
        "## Test the trained model on test data :"
      ]
    },
    {
      "cell_type": "code",
      "metadata": {
        "id": "TpQcS6O1J-Hm",
        "colab_type": "code",
        "colab": {}
      },
      "source": [
        "RF_predictions = RF_model.predict(test_X)"
      ],
      "execution_count": 0,
      "outputs": []
    },
    {
      "cell_type": "code",
      "metadata": {
        "id": "dd8y9SjiKONS",
        "colab_type": "code",
        "outputId": "e87d464f-6a6b-4a67-b256-a15dff637b31",
        "colab": {
          "base_uri": "https://localhost:8080/",
          "height": 35
        }
      },
      "source": [
        "score = accuracy_score(test_y ,RF_predictions)\n",
        "print(score)"
      ],
      "execution_count": 0,
      "outputs": [
        {
          "output_type": "stream",
          "text": [
            "0.8251121076233184\n"
          ],
          "name": "stdout"
        }
      ]
    },
    {
      "cell_type": "markdown",
      "metadata": {
        "id": "CtYWSjJ5asha",
        "colab_type": "text"
      },
      "source": [
        "We see that the model's accuracy is  82%, not bad at all."
      ]
    },
    {
      "cell_type": "markdown",
      "metadata": {
        "id": "oCM3DYk0NO1z",
        "colab_type": "text"
      },
      "source": [
        "## Using Neural Networks:\n"
      ]
    },
    {
      "cell_type": "markdown",
      "metadata": {
        "id": "HmoxQ0K7dYU_",
        "colab_type": "text"
      },
      "source": [
        "## Define the model :"
      ]
    },
    {
      "cell_type": "code",
      "metadata": {
        "id": "JjHxqy9o29IR",
        "colab_type": "code",
        "colab": {}
      },
      "source": [
        "# Build a neural network :\n",
        "NN_model = Sequential()\n",
        "\n",
        "NN_model.add(Dense(128, input_dim = 68, activation='relu'))\n",
        "NN_model.add(Dense(256, activation='relu'))\n",
        "NN_model.add(Dense(256, activation='relu'))\n",
        "NN_model.add(Dense(256, activation='relu'))\n",
        "NN_model.add(Dense(1, activation='sigmoid'))\n",
        "NN_model.compile(loss='binary_crossentropy', optimizer='adam', metrics=['accuracy'])\n"
      ],
      "execution_count": 0,
      "outputs": []
    },
    {
      "cell_type": "markdown",
      "metadata": {
        "id": "dHFsE2AIPw_h",
        "colab_type": "text"
      },
      "source": [
        "Define a checkpoint callback :"
      ]
    },
    {
      "cell_type": "code",
      "metadata": {
        "id": "UEw-m-utHEC6",
        "colab_type": "code",
        "colab": {}
      },
      "source": [
        "checkpoint_name = 'Weights-{epoch:03d}-{val_acc:.5f}.hdf5' \n",
        "checkpoint = ModelCheckpoint(checkpoint_name, monitor='val_acc', verbose = 1, save_best_only = True, mode ='max')\n",
        "callbacks_list = [checkpoint]"
      ],
      "execution_count": 0,
      "outputs": []
    },
    {
      "cell_type": "markdown",
      "metadata": {
        "id": "PapFqg3bdYVD",
        "colab_type": "text"
      },
      "source": [
        "## Train the model :"
      ]
    },
    {
      "cell_type": "code",
      "metadata": {
        "id": "-GkUvBi-EETO",
        "colab_type": "code",
        "outputId": "f11d304e-0970-4e35-cf05-c63134c63ba4",
        "colab": {
          "base_uri": "https://localhost:8080/",
          "height": 10983
        }
      },
      "source": [
        "NN_model.fit(train_X, train_y, epochs=150, batch_size=64, validation_split = 0.2, callbacks=callbacks_list)"
      ],
      "execution_count": 0,
      "outputs": [
        {
          "output_type": "stream",
          "text": [
            "Train on 534 samples, validate on 134 samples\n",
            "Epoch 1/150\n",
            "534/534 [==============================] - 1s 2ms/step - loss: 0.9973 - acc: 0.6049 - val_loss: 0.6713 - val_acc: 0.6269\n",
            "\n",
            "Epoch 00001: val_acc improved from -inf to 0.62687, saving model to Weights-001-0.62687.hdf5\n",
            "Epoch 2/150\n",
            "534/534 [==============================] - 0s 146us/step - loss: 0.6733 - acc: 0.6517 - val_loss: 0.5982 - val_acc: 0.6716\n",
            "\n",
            "Epoch 00002: val_acc improved from 0.62687 to 0.67164, saving model to Weights-002-0.67164.hdf5\n",
            "Epoch 3/150\n",
            "534/534 [==============================] - 0s 152us/step - loss: 0.6489 - acc: 0.7060 - val_loss: 0.5912 - val_acc: 0.7015\n",
            "\n",
            "Epoch 00003: val_acc improved from 0.67164 to 0.70149, saving model to Weights-003-0.70149.hdf5\n",
            "Epoch 4/150\n",
            "534/534 [==============================] - 0s 148us/step - loss: 0.6055 - acc: 0.6985 - val_loss: 0.5768 - val_acc: 0.6642\n",
            "\n",
            "Epoch 00004: val_acc did not improve from 0.70149\n",
            "Epoch 5/150\n",
            "534/534 [==============================] - 0s 150us/step - loss: 0.5745 - acc: 0.7266 - val_loss: 0.6116 - val_acc: 0.6194\n",
            "\n",
            "Epoch 00005: val_acc did not improve from 0.70149\n",
            "Epoch 6/150\n",
            "534/534 [==============================] - 0s 153us/step - loss: 0.5539 - acc: 0.7154 - val_loss: 0.5380 - val_acc: 0.7164\n",
            "\n",
            "Epoch 00006: val_acc improved from 0.70149 to 0.71642, saving model to Weights-006-0.71642.hdf5\n",
            "Epoch 7/150\n",
            "534/534 [==============================] - 0s 143us/step - loss: 0.5307 - acc: 0.7416 - val_loss: 0.5385 - val_acc: 0.7388\n",
            "\n",
            "Epoch 00007: val_acc improved from 0.71642 to 0.73881, saving model to Weights-007-0.73881.hdf5\n",
            "Epoch 8/150\n",
            "534/534 [==============================] - 0s 140us/step - loss: 0.5239 - acc: 0.7603 - val_loss: 0.5352 - val_acc: 0.7239\n",
            "\n",
            "Epoch 00008: val_acc did not improve from 0.73881\n",
            "Epoch 9/150\n",
            "534/534 [==============================] - 0s 150us/step - loss: 0.4957 - acc: 0.7734 - val_loss: 0.5201 - val_acc: 0.7985\n",
            "\n",
            "Epoch 00009: val_acc improved from 0.73881 to 0.79851, saving model to Weights-009-0.79851.hdf5\n",
            "Epoch 10/150\n",
            "534/534 [==============================] - 0s 152us/step - loss: 0.4856 - acc: 0.8052 - val_loss: 0.5194 - val_acc: 0.7239\n",
            "\n",
            "Epoch 00010: val_acc did not improve from 0.79851\n",
            "Epoch 11/150\n",
            "534/534 [==============================] - 0s 143us/step - loss: 0.4884 - acc: 0.7959 - val_loss: 0.4463 - val_acc: 0.8433\n",
            "\n",
            "Epoch 00011: val_acc improved from 0.79851 to 0.84328, saving model to Weights-011-0.84328.hdf5\n",
            "Epoch 12/150\n",
            "534/534 [==============================] - 0s 160us/step - loss: 0.4964 - acc: 0.7978 - val_loss: 0.4206 - val_acc: 0.8582\n",
            "\n",
            "Epoch 00012: val_acc improved from 0.84328 to 0.85821, saving model to Weights-012-0.85821.hdf5\n",
            "Epoch 13/150\n",
            "534/534 [==============================] - 0s 142us/step - loss: 0.4636 - acc: 0.8034 - val_loss: 0.4154 - val_acc: 0.8657\n",
            "\n",
            "Epoch 00013: val_acc improved from 0.85821 to 0.86567, saving model to Weights-013-0.86567.hdf5\n",
            "Epoch 14/150\n",
            "534/534 [==============================] - 0s 140us/step - loss: 0.4143 - acc: 0.8371 - val_loss: 0.4245 - val_acc: 0.8358\n",
            "\n",
            "Epoch 00014: val_acc did not improve from 0.86567\n",
            "Epoch 15/150\n",
            "534/534 [==============================] - 0s 131us/step - loss: 0.4215 - acc: 0.8315 - val_loss: 0.3915 - val_acc: 0.8657\n",
            "\n",
            "Epoch 00015: val_acc improved from 0.86567 to 0.86567, saving model to Weights-015-0.86567.hdf5\n",
            "Epoch 16/150\n",
            "534/534 [==============================] - 0s 142us/step - loss: 0.4014 - acc: 0.8277 - val_loss: 0.3860 - val_acc: 0.8806\n",
            "\n",
            "Epoch 00016: val_acc improved from 0.86567 to 0.88060, saving model to Weights-016-0.88060.hdf5\n",
            "Epoch 17/150\n",
            "534/534 [==============================] - 0s 149us/step - loss: 0.4269 - acc: 0.8184 - val_loss: 0.4106 - val_acc: 0.8284\n",
            "\n",
            "Epoch 00017: val_acc did not improve from 0.88060\n",
            "Epoch 18/150\n",
            "534/534 [==============================] - 0s 166us/step - loss: 0.4052 - acc: 0.8352 - val_loss: 0.4757 - val_acc: 0.8209\n",
            "\n",
            "Epoch 00018: val_acc did not improve from 0.88060\n",
            "Epoch 19/150\n",
            "534/534 [==============================] - 0s 156us/step - loss: 0.4867 - acc: 0.8015 - val_loss: 0.4263 - val_acc: 0.8657\n",
            "\n",
            "Epoch 00019: val_acc did not improve from 0.88060\n",
            "Epoch 20/150\n",
            "534/534 [==============================] - 0s 166us/step - loss: 0.4399 - acc: 0.8277 - val_loss: 0.4258 - val_acc: 0.8284\n",
            "\n",
            "Epoch 00020: val_acc did not improve from 0.88060\n",
            "Epoch 21/150\n",
            "534/534 [==============================] - 0s 134us/step - loss: 0.4219 - acc: 0.8296 - val_loss: 0.4101 - val_acc: 0.8582\n",
            "\n",
            "Epoch 00021: val_acc did not improve from 0.88060\n",
            "Epoch 22/150\n",
            "534/534 [==============================] - 0s 147us/step - loss: 0.3836 - acc: 0.8390 - val_loss: 0.3752 - val_acc: 0.8657\n",
            "\n",
            "Epoch 00022: val_acc did not improve from 0.88060\n",
            "Epoch 23/150\n",
            "534/534 [==============================] - 0s 149us/step - loss: 0.3948 - acc: 0.8333 - val_loss: 0.3976 - val_acc: 0.8358\n",
            "\n",
            "Epoch 00023: val_acc did not improve from 0.88060\n",
            "Epoch 24/150\n",
            "534/534 [==============================] - 0s 147us/step - loss: 0.4221 - acc: 0.8240 - val_loss: 0.4331 - val_acc: 0.8284\n",
            "\n",
            "Epoch 00024: val_acc did not improve from 0.88060\n",
            "Epoch 25/150\n",
            "534/534 [==============================] - 0s 133us/step - loss: 0.4421 - acc: 0.8202 - val_loss: 0.4024 - val_acc: 0.8433\n",
            "\n",
            "Epoch 00025: val_acc did not improve from 0.88060\n",
            "Epoch 26/150\n",
            "534/534 [==============================] - 0s 146us/step - loss: 0.3713 - acc: 0.8333 - val_loss: 0.4115 - val_acc: 0.8507\n",
            "\n",
            "Epoch 00026: val_acc did not improve from 0.88060\n",
            "Epoch 27/150\n",
            "534/534 [==============================] - 0s 134us/step - loss: 0.3664 - acc: 0.8446 - val_loss: 0.3813 - val_acc: 0.8507\n",
            "\n",
            "Epoch 00027: val_acc did not improve from 0.88060\n",
            "Epoch 28/150\n",
            "534/534 [==============================] - 0s 147us/step - loss: 0.3808 - acc: 0.8390 - val_loss: 0.3951 - val_acc: 0.8582\n",
            "\n",
            "Epoch 00028: val_acc did not improve from 0.88060\n",
            "Epoch 29/150\n",
            "534/534 [==============================] - 0s 143us/step - loss: 0.3759 - acc: 0.8539 - val_loss: 0.3923 - val_acc: 0.8433\n",
            "\n",
            "Epoch 00029: val_acc did not improve from 0.88060\n",
            "Epoch 30/150\n",
            "534/534 [==============================] - 0s 131us/step - loss: 0.3503 - acc: 0.8521 - val_loss: 0.4118 - val_acc: 0.8209\n",
            "\n",
            "Epoch 00030: val_acc did not improve from 0.88060\n",
            "Epoch 31/150\n",
            "534/534 [==============================] - 0s 151us/step - loss: 0.3488 - acc: 0.8464 - val_loss: 0.3883 - val_acc: 0.8657\n",
            "\n",
            "Epoch 00031: val_acc did not improve from 0.88060\n",
            "Epoch 32/150\n",
            "534/534 [==============================] - 0s 148us/step - loss: 0.3498 - acc: 0.8502 - val_loss: 0.3817 - val_acc: 0.8806\n",
            "\n",
            "Epoch 00032: val_acc did not improve from 0.88060\n",
            "Epoch 33/150\n",
            "534/534 [==============================] - 0s 144us/step - loss: 0.3502 - acc: 0.8483 - val_loss: 0.4017 - val_acc: 0.8657\n",
            "\n",
            "Epoch 00033: val_acc did not improve from 0.88060\n",
            "Epoch 34/150\n",
            "534/534 [==============================] - 0s 134us/step - loss: 0.3423 - acc: 0.8521 - val_loss: 0.3896 - val_acc: 0.8657\n",
            "\n",
            "Epoch 00034: val_acc did not improve from 0.88060\n",
            "Epoch 35/150\n",
            "534/534 [==============================] - 0s 160us/step - loss: 0.3393 - acc: 0.8577 - val_loss: 0.3815 - val_acc: 0.8657\n",
            "\n",
            "Epoch 00035: val_acc did not improve from 0.88060\n",
            "Epoch 36/150\n",
            "534/534 [==============================] - 0s 157us/step - loss: 0.3288 - acc: 0.8558 - val_loss: 0.3944 - val_acc: 0.8657\n",
            "\n",
            "Epoch 00036: val_acc did not improve from 0.88060\n",
            "Epoch 37/150\n",
            "534/534 [==============================] - 0s 154us/step - loss: 0.3246 - acc: 0.8577 - val_loss: 0.3924 - val_acc: 0.8582\n",
            "\n",
            "Epoch 00037: val_acc did not improve from 0.88060\n",
            "Epoch 38/150\n",
            "534/534 [==============================] - 0s 134us/step - loss: 0.3400 - acc: 0.8464 - val_loss: 0.4027 - val_acc: 0.8358\n",
            "\n",
            "Epoch 00038: val_acc did not improve from 0.88060\n",
            "Epoch 39/150\n",
            "534/534 [==============================] - 0s 134us/step - loss: 0.3669 - acc: 0.8502 - val_loss: 0.4113 - val_acc: 0.8433\n",
            "\n",
            "Epoch 00039: val_acc did not improve from 0.88060\n",
            "Epoch 40/150\n",
            "534/534 [==============================] - 0s 135us/step - loss: 0.3489 - acc: 0.8577 - val_loss: 0.3921 - val_acc: 0.8657\n",
            "\n",
            "Epoch 00040: val_acc did not improve from 0.88060\n",
            "Epoch 41/150\n",
            "534/534 [==============================] - 0s 148us/step - loss: 0.3268 - acc: 0.8558 - val_loss: 0.3967 - val_acc: 0.8657\n",
            "\n",
            "Epoch 00041: val_acc did not improve from 0.88060\n",
            "Epoch 42/150\n",
            "534/534 [==============================] - 0s 134us/step - loss: 0.3183 - acc: 0.8558 - val_loss: 0.3949 - val_acc: 0.8582\n",
            "\n",
            "Epoch 00042: val_acc did not improve from 0.88060\n",
            "Epoch 43/150\n",
            "534/534 [==============================] - 0s 131us/step - loss: 0.3113 - acc: 0.8596 - val_loss: 0.4189 - val_acc: 0.8433\n",
            "\n",
            "Epoch 00043: val_acc did not improve from 0.88060\n",
            "Epoch 44/150\n",
            "534/534 [==============================] - 0s 147us/step - loss: 0.3170 - acc: 0.8633 - val_loss: 0.4189 - val_acc: 0.8507\n",
            "\n",
            "Epoch 00044: val_acc did not improve from 0.88060\n",
            "Epoch 45/150\n",
            "534/534 [==============================] - 0s 149us/step - loss: 0.3196 - acc: 0.8652 - val_loss: 0.4231 - val_acc: 0.8433\n",
            "\n",
            "Epoch 00045: val_acc did not improve from 0.88060\n",
            "Epoch 46/150\n",
            "534/534 [==============================] - 0s 134us/step - loss: 0.3156 - acc: 0.8670 - val_loss: 0.4175 - val_acc: 0.8358\n",
            "\n",
            "Epoch 00046: val_acc did not improve from 0.88060\n",
            "Epoch 47/150\n",
            "534/534 [==============================] - 0s 144us/step - loss: 0.3031 - acc: 0.8689 - val_loss: 0.4214 - val_acc: 0.8433\n",
            "\n",
            "Epoch 00047: val_acc did not improve from 0.88060\n",
            "Epoch 48/150\n",
            "534/534 [==============================] - 0s 131us/step - loss: 0.3117 - acc: 0.8689 - val_loss: 0.4095 - val_acc: 0.8582\n",
            "\n",
            "Epoch 00048: val_acc did not improve from 0.88060\n",
            "Epoch 49/150\n",
            "534/534 [==============================] - 0s 143us/step - loss: 0.2962 - acc: 0.8764 - val_loss: 0.4779 - val_acc: 0.8433\n",
            "\n",
            "Epoch 00049: val_acc did not improve from 0.88060\n",
            "Epoch 50/150\n",
            "534/534 [==============================] - 0s 129us/step - loss: 0.3129 - acc: 0.8539 - val_loss: 0.4598 - val_acc: 0.8284\n",
            "\n",
            "Epoch 00050: val_acc did not improve from 0.88060\n",
            "Epoch 51/150\n",
            "534/534 [==============================] - 0s 147us/step - loss: 0.3058 - acc: 0.8727 - val_loss: 0.4729 - val_acc: 0.7985\n",
            "\n",
            "Epoch 00051: val_acc did not improve from 0.88060\n",
            "Epoch 52/150\n",
            "534/534 [==============================] - 0s 177us/step - loss: 0.2943 - acc: 0.8820 - val_loss: 0.4958 - val_acc: 0.7985\n",
            "\n",
            "Epoch 00052: val_acc did not improve from 0.88060\n",
            "Epoch 53/150\n",
            "534/534 [==============================] - 0s 131us/step - loss: 0.3222 - acc: 0.8783 - val_loss: 0.4569 - val_acc: 0.8134\n",
            "\n",
            "Epoch 00053: val_acc did not improve from 0.88060\n",
            "Epoch 54/150\n",
            "534/534 [==============================] - 0s 146us/step - loss: 0.3099 - acc: 0.8652 - val_loss: 0.4419 - val_acc: 0.8284\n",
            "\n",
            "Epoch 00054: val_acc did not improve from 0.88060\n",
            "Epoch 55/150\n",
            "534/534 [==============================] - 0s 144us/step - loss: 0.3078 - acc: 0.8670 - val_loss: 0.5222 - val_acc: 0.7910\n",
            "\n",
            "Epoch 00055: val_acc did not improve from 0.88060\n",
            "Epoch 56/150\n",
            "534/534 [==============================] - 0s 158us/step - loss: 0.3194 - acc: 0.8633 - val_loss: 0.4328 - val_acc: 0.8060\n",
            "\n",
            "Epoch 00056: val_acc did not improve from 0.88060\n",
            "Epoch 57/150\n",
            "534/534 [==============================] - 0s 133us/step - loss: 0.3088 - acc: 0.8801 - val_loss: 0.4529 - val_acc: 0.7985\n",
            "\n",
            "Epoch 00057: val_acc did not improve from 0.88060\n",
            "Epoch 58/150\n",
            "534/534 [==============================] - 0s 144us/step - loss: 0.3021 - acc: 0.8783 - val_loss: 0.4751 - val_acc: 0.8284\n",
            "\n",
            "Epoch 00058: val_acc did not improve from 0.88060\n",
            "Epoch 59/150\n",
            "534/534 [==============================] - 0s 147us/step - loss: 0.3011 - acc: 0.8670 - val_loss: 0.4828 - val_acc: 0.8134\n",
            "\n",
            "Epoch 00059: val_acc did not improve from 0.88060\n",
            "Epoch 60/150\n",
            "534/534 [==============================] - 0s 145us/step - loss: 0.3229 - acc: 0.8670 - val_loss: 0.4546 - val_acc: 0.8358\n",
            "\n",
            "Epoch 00060: val_acc did not improve from 0.88060\n",
            "Epoch 61/150\n",
            "534/534 [==============================] - 0s 145us/step - loss: 0.2951 - acc: 0.8764 - val_loss: 0.4904 - val_acc: 0.7836\n",
            "\n",
            "Epoch 00061: val_acc did not improve from 0.88060\n",
            "Epoch 62/150\n",
            "534/534 [==============================] - 0s 130us/step - loss: 0.2908 - acc: 0.8689 - val_loss: 0.4558 - val_acc: 0.8358\n",
            "\n",
            "Epoch 00062: val_acc did not improve from 0.88060\n",
            "Epoch 63/150\n",
            "534/534 [==============================] - 0s 145us/step - loss: 0.2936 - acc: 0.8689 - val_loss: 0.6382 - val_acc: 0.7612\n",
            "\n",
            "Epoch 00063: val_acc did not improve from 0.88060\n",
            "Epoch 64/150\n",
            "534/534 [==============================] - 0s 166us/step - loss: 0.3064 - acc: 0.8727 - val_loss: 0.4971 - val_acc: 0.7985\n",
            "\n",
            "Epoch 00064: val_acc did not improve from 0.88060\n",
            "Epoch 65/150\n",
            "534/534 [==============================] - 0s 146us/step - loss: 0.2963 - acc: 0.8727 - val_loss: 0.4946 - val_acc: 0.7910\n",
            "\n",
            "Epoch 00065: val_acc did not improve from 0.88060\n",
            "Epoch 66/150\n",
            "534/534 [==============================] - 0s 148us/step - loss: 0.2628 - acc: 0.8839 - val_loss: 0.5181 - val_acc: 0.7910\n",
            "\n",
            "Epoch 00066: val_acc did not improve from 0.88060\n",
            "Epoch 67/150\n",
            "534/534 [==============================] - 0s 167us/step - loss: 0.2965 - acc: 0.8801 - val_loss: 0.4641 - val_acc: 0.8060\n",
            "\n",
            "Epoch 00067: val_acc did not improve from 0.88060\n",
            "Epoch 68/150\n",
            "534/534 [==============================] - 0s 143us/step - loss: 0.2883 - acc: 0.8745 - val_loss: 0.5420 - val_acc: 0.7985\n",
            "\n",
            "Epoch 00068: val_acc did not improve from 0.88060\n",
            "Epoch 69/150\n",
            "534/534 [==============================] - 0s 131us/step - loss: 0.2634 - acc: 0.8970 - val_loss: 0.4839 - val_acc: 0.8060\n",
            "\n",
            "Epoch 00069: val_acc did not improve from 0.88060\n",
            "Epoch 70/150\n",
            "534/534 [==============================] - 0s 145us/step - loss: 0.2602 - acc: 0.8933 - val_loss: 0.5570 - val_acc: 0.8060\n",
            "\n",
            "Epoch 00070: val_acc did not improve from 0.88060\n",
            "Epoch 71/150\n",
            "534/534 [==============================] - 0s 147us/step - loss: 0.2780 - acc: 0.8745 - val_loss: 0.5013 - val_acc: 0.8209\n",
            "\n",
            "Epoch 00071: val_acc did not improve from 0.88060\n",
            "Epoch 72/150\n",
            "534/534 [==============================] - 0s 148us/step - loss: 0.2934 - acc: 0.8820 - val_loss: 0.4873 - val_acc: 0.7910\n",
            "\n",
            "Epoch 00072: val_acc did not improve from 0.88060\n",
            "Epoch 73/150\n",
            "534/534 [==============================] - 0s 131us/step - loss: 0.2890 - acc: 0.8801 - val_loss: 0.5562 - val_acc: 0.8209\n",
            "\n",
            "Epoch 00073: val_acc did not improve from 0.88060\n",
            "Epoch 74/150\n",
            "534/534 [==============================] - 0s 142us/step - loss: 0.2632 - acc: 0.8951 - val_loss: 0.5604 - val_acc: 0.7985\n",
            "\n",
            "Epoch 00074: val_acc did not improve from 0.88060\n",
            "Epoch 75/150\n",
            "534/534 [==============================] - 0s 134us/step - loss: 0.2608 - acc: 0.8951 - val_loss: 0.5508 - val_acc: 0.8209\n",
            "\n",
            "Epoch 00075: val_acc did not improve from 0.88060\n",
            "Epoch 76/150\n",
            "534/534 [==============================] - 0s 146us/step - loss: 0.2496 - acc: 0.8951 - val_loss: 0.5645 - val_acc: 0.7910\n",
            "\n",
            "Epoch 00076: val_acc did not improve from 0.88060\n",
            "Epoch 77/150\n",
            "534/534 [==============================] - 0s 144us/step - loss: 0.2367 - acc: 0.9064 - val_loss: 0.5896 - val_acc: 0.8284\n",
            "\n",
            "Epoch 00077: val_acc did not improve from 0.88060\n",
            "Epoch 78/150\n",
            "534/534 [==============================] - 0s 131us/step - loss: 0.2480 - acc: 0.8970 - val_loss: 0.5776 - val_acc: 0.7687\n",
            "\n",
            "Epoch 00078: val_acc did not improve from 0.88060\n",
            "Epoch 79/150\n",
            "534/534 [==============================] - 0s 133us/step - loss: 0.2768 - acc: 0.8652 - val_loss: 0.5445 - val_acc: 0.8209\n",
            "\n",
            "Epoch 00079: val_acc did not improve from 0.88060\n",
            "Epoch 80/150\n",
            "534/534 [==============================] - 0s 144us/step - loss: 0.2396 - acc: 0.9007 - val_loss: 0.5604 - val_acc: 0.8060\n",
            "\n",
            "Epoch 00080: val_acc did not improve from 0.88060\n",
            "Epoch 81/150\n",
            "534/534 [==============================] - 0s 133us/step - loss: 0.2521 - acc: 0.9026 - val_loss: 0.6360 - val_acc: 0.7910\n",
            "\n",
            "Epoch 00081: val_acc did not improve from 0.88060\n",
            "Epoch 82/150\n",
            "534/534 [==============================] - 0s 133us/step - loss: 0.2411 - acc: 0.9064 - val_loss: 0.5414 - val_acc: 0.7910\n",
            "\n",
            "Epoch 00082: val_acc did not improve from 0.88060\n",
            "Epoch 83/150\n",
            "534/534 [==============================] - 0s 133us/step - loss: 0.2340 - acc: 0.9082 - val_loss: 0.5818 - val_acc: 0.8284\n",
            "\n",
            "Epoch 00083: val_acc did not improve from 0.88060\n",
            "Epoch 84/150\n",
            "534/534 [==============================] - 0s 161us/step - loss: 0.2455 - acc: 0.8951 - val_loss: 0.5712 - val_acc: 0.7985\n",
            "\n",
            "Epoch 00084: val_acc did not improve from 0.88060\n",
            "Epoch 85/150\n",
            "534/534 [==============================] - 0s 138us/step - loss: 0.2428 - acc: 0.9026 - val_loss: 0.5189 - val_acc: 0.8209\n",
            "\n",
            "Epoch 00085: val_acc did not improve from 0.88060\n",
            "Epoch 86/150\n",
            "534/534 [==============================] - 0s 136us/step - loss: 0.2458 - acc: 0.8970 - val_loss: 0.5744 - val_acc: 0.8284\n",
            "\n",
            "Epoch 00086: val_acc did not improve from 0.88060\n",
            "Epoch 87/150\n",
            "534/534 [==============================] - 0s 135us/step - loss: 0.2338 - acc: 0.8970 - val_loss: 0.6680 - val_acc: 0.7612\n",
            "\n",
            "Epoch 00087: val_acc did not improve from 0.88060\n",
            "Epoch 88/150\n",
            "534/534 [==============================] - 0s 145us/step - loss: 0.2598 - acc: 0.9026 - val_loss: 0.5833 - val_acc: 0.7537\n",
            "\n",
            "Epoch 00088: val_acc did not improve from 0.88060\n",
            "Epoch 89/150\n",
            "534/534 [==============================] - 0s 145us/step - loss: 0.2637 - acc: 0.8951 - val_loss: 0.6137 - val_acc: 0.8060\n",
            "\n",
            "Epoch 00089: val_acc did not improve from 0.88060\n",
            "Epoch 90/150\n",
            "534/534 [==============================] - 0s 148us/step - loss: 0.2314 - acc: 0.9007 - val_loss: 0.6721 - val_acc: 0.7836\n",
            "\n",
            "Epoch 00090: val_acc did not improve from 0.88060\n",
            "Epoch 91/150\n",
            "534/534 [==============================] - 0s 136us/step - loss: 0.2493 - acc: 0.8989 - val_loss: 0.6016 - val_acc: 0.7836\n",
            "\n",
            "Epoch 00091: val_acc did not improve from 0.88060\n",
            "Epoch 92/150\n",
            "534/534 [==============================] - 0s 127us/step - loss: 0.2314 - acc: 0.9064 - val_loss: 0.5991 - val_acc: 0.8209\n",
            "\n",
            "Epoch 00092: val_acc did not improve from 0.88060\n",
            "Epoch 93/150\n",
            "534/534 [==============================] - 0s 133us/step - loss: 0.2157 - acc: 0.9157 - val_loss: 0.6815 - val_acc: 0.8134\n",
            "\n",
            "Epoch 00093: val_acc did not improve from 0.88060\n",
            "Epoch 94/150\n",
            "534/534 [==============================] - 0s 133us/step - loss: 0.2522 - acc: 0.8989 - val_loss: 0.6097 - val_acc: 0.8358\n",
            "\n",
            "Epoch 00094: val_acc did not improve from 0.88060\n",
            "Epoch 95/150\n",
            "534/534 [==============================] - 0s 145us/step - loss: 0.2551 - acc: 0.8895 - val_loss: 0.5156 - val_acc: 0.8134\n",
            "\n",
            "Epoch 00095: val_acc did not improve from 0.88060\n",
            "Epoch 96/150\n",
            "534/534 [==============================] - 0s 135us/step - loss: 0.2319 - acc: 0.8989 - val_loss: 0.7133 - val_acc: 0.7761\n",
            "\n",
            "Epoch 00096: val_acc did not improve from 0.88060\n",
            "Epoch 97/150\n",
            "534/534 [==============================] - 0s 136us/step - loss: 0.2551 - acc: 0.8895 - val_loss: 0.7176 - val_acc: 0.7836\n",
            "\n",
            "Epoch 00097: val_acc did not improve from 0.88060\n",
            "Epoch 98/150\n",
            "534/534 [==============================] - 0s 147us/step - loss: 0.2187 - acc: 0.9045 - val_loss: 0.6056 - val_acc: 0.8060\n",
            "\n",
            "Epoch 00098: val_acc did not improve from 0.88060\n",
            "Epoch 99/150\n",
            "534/534 [==============================] - 0s 133us/step - loss: 0.2124 - acc: 0.9176 - val_loss: 0.6820 - val_acc: 0.8060\n",
            "\n",
            "Epoch 00099: val_acc did not improve from 0.88060\n",
            "Epoch 100/150\n",
            "534/534 [==============================] - 0s 167us/step - loss: 0.2170 - acc: 0.9082 - val_loss: 0.6195 - val_acc: 0.7910\n",
            "\n",
            "Epoch 00100: val_acc did not improve from 0.88060\n",
            "Epoch 101/150\n",
            "534/534 [==============================] - 0s 132us/step - loss: 0.2102 - acc: 0.9157 - val_loss: 0.7642 - val_acc: 0.7985\n",
            "\n",
            "Epoch 00101: val_acc did not improve from 0.88060\n",
            "Epoch 102/150\n",
            "534/534 [==============================] - 0s 152us/step - loss: 0.2578 - acc: 0.8951 - val_loss: 0.6567 - val_acc: 0.7985\n",
            "\n",
            "Epoch 00102: val_acc did not improve from 0.88060\n",
            "Epoch 103/150\n",
            "534/534 [==============================] - 0s 143us/step - loss: 0.2289 - acc: 0.9007 - val_loss: 0.6082 - val_acc: 0.8134\n",
            "\n",
            "Epoch 00103: val_acc did not improve from 0.88060\n",
            "Epoch 104/150\n",
            "534/534 [==============================] - 0s 145us/step - loss: 0.2325 - acc: 0.9139 - val_loss: 0.6399 - val_acc: 0.7761\n",
            "\n",
            "Epoch 00104: val_acc did not improve from 0.88060\n",
            "Epoch 105/150\n",
            "534/534 [==============================] - 0s 148us/step - loss: 0.2246 - acc: 0.9082 - val_loss: 0.7417 - val_acc: 0.7836\n",
            "\n",
            "Epoch 00105: val_acc did not improve from 0.88060\n",
            "Epoch 106/150\n",
            "534/534 [==============================] - 0s 142us/step - loss: 0.2501 - acc: 0.8858 - val_loss: 0.7191 - val_acc: 0.7687\n",
            "\n",
            "Epoch 00106: val_acc did not improve from 0.88060\n",
            "Epoch 107/150\n",
            "534/534 [==============================] - 0s 145us/step - loss: 0.2303 - acc: 0.9007 - val_loss: 0.7104 - val_acc: 0.7910\n",
            "\n",
            "Epoch 00107: val_acc did not improve from 0.88060\n",
            "Epoch 108/150\n",
            "534/534 [==============================] - 0s 130us/step - loss: 0.2214 - acc: 0.9007 - val_loss: 0.6777 - val_acc: 0.7985\n",
            "\n",
            "Epoch 00108: val_acc did not improve from 0.88060\n",
            "Epoch 109/150\n",
            "534/534 [==============================] - 0s 145us/step - loss: 0.2142 - acc: 0.9082 - val_loss: 0.8224 - val_acc: 0.7836\n",
            "\n",
            "Epoch 00109: val_acc did not improve from 0.88060\n",
            "Epoch 110/150\n",
            "534/534 [==============================] - 0s 147us/step - loss: 0.2879 - acc: 0.8764 - val_loss: 0.6967 - val_acc: 0.7463\n",
            "\n",
            "Epoch 00110: val_acc did not improve from 0.88060\n",
            "Epoch 111/150\n",
            "534/534 [==============================] - 0s 134us/step - loss: 0.2585 - acc: 0.8876 - val_loss: 0.5885 - val_acc: 0.8134\n",
            "\n",
            "Epoch 00111: val_acc did not improve from 0.88060\n",
            "Epoch 112/150\n",
            "534/534 [==============================] - 0s 145us/step - loss: 0.2160 - acc: 0.9120 - val_loss: 0.8129 - val_acc: 0.7612\n",
            "\n",
            "Epoch 00112: val_acc did not improve from 0.88060\n",
            "Epoch 113/150\n",
            "534/534 [==============================] - 0s 146us/step - loss: 0.2096 - acc: 0.9157 - val_loss: 0.8154 - val_acc: 0.7687\n",
            "\n",
            "Epoch 00113: val_acc did not improve from 0.88060\n",
            "Epoch 114/150\n",
            "534/534 [==============================] - 0s 131us/step - loss: 0.2361 - acc: 0.9007 - val_loss: 0.6699 - val_acc: 0.7985\n",
            "\n",
            "Epoch 00114: val_acc did not improve from 0.88060\n",
            "Epoch 115/150\n",
            "534/534 [==============================] - 0s 144us/step - loss: 0.2442 - acc: 0.8914 - val_loss: 0.6653 - val_acc: 0.8209\n",
            "\n",
            "Epoch 00115: val_acc did not improve from 0.88060\n",
            "Epoch 116/150\n",
            "534/534 [==============================] - 0s 170us/step - loss: 0.2452 - acc: 0.9120 - val_loss: 0.9445 - val_acc: 0.7612\n",
            "\n",
            "Epoch 00116: val_acc did not improve from 0.88060\n",
            "Epoch 117/150\n",
            "534/534 [==============================] - 0s 146us/step - loss: 0.2403 - acc: 0.8970 - val_loss: 0.7678 - val_acc: 0.7761\n",
            "\n",
            "Epoch 00117: val_acc did not improve from 0.88060\n",
            "Epoch 118/150\n",
            "534/534 [==============================] - 0s 136us/step - loss: 0.2570 - acc: 0.9007 - val_loss: 0.7150 - val_acc: 0.8060\n",
            "\n",
            "Epoch 00118: val_acc did not improve from 0.88060\n",
            "Epoch 119/150\n",
            "534/534 [==============================] - 0s 145us/step - loss: 0.2325 - acc: 0.9045 - val_loss: 0.6290 - val_acc: 0.8134\n",
            "\n",
            "Epoch 00119: val_acc did not improve from 0.88060\n",
            "Epoch 120/150\n",
            "534/534 [==============================] - 0s 143us/step - loss: 0.2312 - acc: 0.9026 - val_loss: 0.7620 - val_acc: 0.7836\n",
            "\n",
            "Epoch 00120: val_acc did not improve from 0.88060\n",
            "Epoch 121/150\n",
            "534/534 [==============================] - 0s 134us/step - loss: 0.2056 - acc: 0.9176 - val_loss: 0.9199 - val_acc: 0.7463\n",
            "\n",
            "Epoch 00121: val_acc did not improve from 0.88060\n",
            "Epoch 122/150\n",
            "534/534 [==============================] - 0s 146us/step - loss: 0.2227 - acc: 0.9064 - val_loss: 0.6450 - val_acc: 0.7985\n",
            "\n",
            "Epoch 00122: val_acc did not improve from 0.88060\n",
            "Epoch 123/150\n",
            "534/534 [==============================] - 0s 145us/step - loss: 0.1943 - acc: 0.9176 - val_loss: 0.7371 - val_acc: 0.8060\n",
            "\n",
            "Epoch 00123: val_acc did not improve from 0.88060\n",
            "Epoch 124/150\n",
            "534/534 [==============================] - 0s 149us/step - loss: 0.1880 - acc: 0.9232 - val_loss: 0.8703 - val_acc: 0.7910\n",
            "\n",
            "Epoch 00124: val_acc did not improve from 0.88060\n",
            "Epoch 125/150\n",
            "534/534 [==============================] - 0s 150us/step - loss: 0.1903 - acc: 0.9288 - val_loss: 0.8541 - val_acc: 0.7910\n",
            "\n",
            "Epoch 00125: val_acc did not improve from 0.88060\n",
            "Epoch 126/150\n",
            "534/534 [==============================] - 0s 145us/step - loss: 0.1807 - acc: 0.9232 - val_loss: 0.8284 - val_acc: 0.7910\n",
            "\n",
            "Epoch 00126: val_acc did not improve from 0.88060\n",
            "Epoch 127/150\n",
            "534/534 [==============================] - 0s 144us/step - loss: 0.1714 - acc: 0.9251 - val_loss: 0.8499 - val_acc: 0.7910\n",
            "\n",
            "Epoch 00127: val_acc did not improve from 0.88060\n",
            "Epoch 128/150\n",
            "534/534 [==============================] - 0s 132us/step - loss: 0.1938 - acc: 0.9232 - val_loss: 0.8626 - val_acc: 0.7687\n",
            "\n",
            "Epoch 00128: val_acc did not improve from 0.88060\n",
            "Epoch 129/150\n",
            "534/534 [==============================] - 0s 136us/step - loss: 0.1899 - acc: 0.9232 - val_loss: 0.8580 - val_acc: 0.7836\n",
            "\n",
            "Epoch 00129: val_acc did not improve from 0.88060\n",
            "Epoch 130/150\n",
            "534/534 [==============================] - 0s 160us/step - loss: 0.1834 - acc: 0.9213 - val_loss: 0.7867 - val_acc: 0.8134\n",
            "\n",
            "Epoch 00130: val_acc did not improve from 0.88060\n",
            "Epoch 131/150\n",
            "534/534 [==============================] - 0s 166us/step - loss: 0.1725 - acc: 0.9288 - val_loss: 0.9089 - val_acc: 0.7687\n",
            "\n",
            "Epoch 00131: val_acc did not improve from 0.88060\n",
            "Epoch 132/150\n",
            "534/534 [==============================] - 0s 162us/step - loss: 0.1961 - acc: 0.9232 - val_loss: 0.8242 - val_acc: 0.8134\n",
            "\n",
            "Epoch 00132: val_acc did not improve from 0.88060\n",
            "Epoch 133/150\n",
            "534/534 [==============================] - 0s 146us/step - loss: 0.1725 - acc: 0.9307 - val_loss: 0.9322 - val_acc: 0.7910\n",
            "\n",
            "Epoch 00133: val_acc did not improve from 0.88060\n",
            "Epoch 134/150\n",
            "534/534 [==============================] - 0s 147us/step - loss: 0.1602 - acc: 0.9401 - val_loss: 0.8918 - val_acc: 0.8134\n",
            "\n",
            "Epoch 00134: val_acc did not improve from 0.88060\n",
            "Epoch 135/150\n",
            "534/534 [==============================] - 0s 146us/step - loss: 0.1753 - acc: 0.9307 - val_loss: 0.9593 - val_acc: 0.7910\n",
            "\n",
            "Epoch 00135: val_acc did not improve from 0.88060\n",
            "Epoch 136/150\n",
            "534/534 [==============================] - 0s 153us/step - loss: 0.1706 - acc: 0.9288 - val_loss: 0.9407 - val_acc: 0.7985\n",
            "\n",
            "Epoch 00136: val_acc did not improve from 0.88060\n",
            "Epoch 137/150\n",
            "534/534 [==============================] - 0s 147us/step - loss: 0.1653 - acc: 0.9307 - val_loss: 1.0303 - val_acc: 0.7985\n",
            "\n",
            "Epoch 00137: val_acc did not improve from 0.88060\n",
            "Epoch 138/150\n",
            "534/534 [==============================] - 0s 151us/step - loss: 0.1634 - acc: 0.9288 - val_loss: 1.0084 - val_acc: 0.7836\n",
            "\n",
            "Epoch 00138: val_acc did not improve from 0.88060\n",
            "Epoch 139/150\n",
            "534/534 [==============================] - 0s 134us/step - loss: 0.2166 - acc: 0.9045 - val_loss: 0.8427 - val_acc: 0.7761\n",
            "\n",
            "Epoch 00139: val_acc did not improve from 0.88060\n",
            "Epoch 140/150\n",
            "534/534 [==============================] - 0s 148us/step - loss: 0.2219 - acc: 0.9101 - val_loss: 0.8531 - val_acc: 0.7910\n",
            "\n",
            "Epoch 00140: val_acc did not improve from 0.88060\n",
            "Epoch 141/150\n",
            "534/534 [==============================] - 0s 130us/step - loss: 0.1842 - acc: 0.9251 - val_loss: 1.1264 - val_acc: 0.7836\n",
            "\n",
            "Epoch 00141: val_acc did not improve from 0.88060\n",
            "Epoch 142/150\n",
            "534/534 [==============================] - 0s 146us/step - loss: 0.2007 - acc: 0.9213 - val_loss: 0.8888 - val_acc: 0.7687\n",
            "\n",
            "Epoch 00142: val_acc did not improve from 0.88060\n",
            "Epoch 143/150\n",
            "534/534 [==============================] - 0s 144us/step - loss: 0.2061 - acc: 0.9251 - val_loss: 0.9114 - val_acc: 0.7985\n",
            "\n",
            "Epoch 00143: val_acc did not improve from 0.88060\n",
            "Epoch 144/150\n",
            "534/534 [==============================] - 0s 129us/step - loss: 0.1711 - acc: 0.9326 - val_loss: 0.9414 - val_acc: 0.7910\n",
            "\n",
            "Epoch 00144: val_acc did not improve from 0.88060\n",
            "Epoch 145/150\n",
            "534/534 [==============================] - 0s 142us/step - loss: 0.1865 - acc: 0.9232 - val_loss: 0.7938 - val_acc: 0.8134\n",
            "\n",
            "Epoch 00145: val_acc did not improve from 0.88060\n",
            "Epoch 146/150\n",
            "534/534 [==============================] - 0s 132us/step - loss: 0.1909 - acc: 0.9213 - val_loss: 0.9327 - val_acc: 0.7761\n",
            "\n",
            "Epoch 00146: val_acc did not improve from 0.88060\n",
            "Epoch 147/150\n",
            "534/534 [==============================] - 0s 147us/step - loss: 0.1821 - acc: 0.9213 - val_loss: 0.8865 - val_acc: 0.7761\n",
            "\n",
            "Epoch 00147: val_acc did not improve from 0.88060\n",
            "Epoch 148/150\n",
            "534/534 [==============================] - 0s 153us/step - loss: 0.1816 - acc: 0.9307 - val_loss: 0.9292 - val_acc: 0.7985\n",
            "\n",
            "Epoch 00148: val_acc did not improve from 0.88060\n",
            "Epoch 149/150\n",
            "534/534 [==============================] - 0s 146us/step - loss: 0.1599 - acc: 0.9382 - val_loss: 1.0482 - val_acc: 0.7761\n",
            "\n",
            "Epoch 00149: val_acc did not improve from 0.88060\n",
            "Epoch 150/150\n",
            "534/534 [==============================] - 0s 133us/step - loss: 0.1612 - acc: 0.9307 - val_loss: 1.1589 - val_acc: 0.7836\n",
            "\n",
            "Epoch 00150: val_acc did not improve from 0.88060\n"
          ],
          "name": "stdout"
        },
        {
          "output_type": "execute_result",
          "data": {
            "text/plain": [
              "<keras.callbacks.History at 0x7f47cb549320>"
            ]
          },
          "metadata": {
            "tags": []
          },
          "execution_count": 19
        }
      ]
    },
    {
      "cell_type": "code",
      "metadata": {
        "id": "ZTePkjbGNb97",
        "colab_type": "code",
        "colab": {}
      },
      "source": [
        "# Load wights file of the best model :\n",
        "wights_file = './Weights-016-0.88060.hdf5' # choose the best checkpoint \n",
        "NN_model.load_weights(wights_file) # load it\n",
        "NN_model.compile(loss='binary_crossentropy', optimizer='adam', metrics=['accuracy'])"
      ],
      "execution_count": 0,
      "outputs": []
    },
    {
      "cell_type": "markdown",
      "metadata": {
        "id": "Re0I_erHdYVF",
        "colab_type": "text"
      },
      "source": [
        "## Test the trained model on test data :"
      ]
    },
    {
      "cell_type": "code",
      "metadata": {
        "id": "82WVFZQEH_bW",
        "colab_type": "code",
        "colab": {}
      },
      "source": [
        "predictions = NN_model.predict(test_X)"
      ],
      "execution_count": 0,
      "outputs": []
    },
    {
      "cell_type": "code",
      "metadata": {
        "id": "80CG8FxGIHM_",
        "colab_type": "code",
        "colab": {}
      },
      "source": [
        "# round predictions\n",
        "rounded = [round(x[0]) for x in predictions]\n",
        "predictions = rounded"
      ],
      "execution_count": 0,
      "outputs": []
    },
    {
      "cell_type": "code",
      "metadata": {
        "id": "iAqyEdrZJFcx",
        "colab_type": "code",
        "outputId": "09a69ab0-1557-4bb2-fb29-208d57c40460",
        "colab": {
          "base_uri": "https://localhost:8080/",
          "height": 35
        }
      },
      "source": [
        "score = accuracy_score(test_y ,predictions)\n",
        "print(score)"
      ],
      "execution_count": 0,
      "outputs": [
        {
          "output_type": "stream",
          "text": [
            "0.8116591928251121\n"
          ],
          "name": "stdout"
        }
      ]
    },
    {
      "cell_type": "markdown",
      "metadata": {
        "id": "4iNUUkzpdppT",
        "colab_type": "text"
      },
      "source": [
        "The accuracy of this neural network model is 81%, we notice that using random forest gives us a higher accuracy."
      ]
    },
    {
      "cell_type": "markdown",
      "metadata": {
        "id": "ZQ0epaXIMv7s",
        "colab_type": "text"
      },
      "source": [
        "## References :\n",
        "* [The Random Forest Algorithm](https://towardsdatascience.com/the-random-forest-algorithm-d457d499ffcd)\n",
        "*\t[What are some advantages of using a random forest over a decision tree given that a decision tree is simpler?](https://www.quora.com/What-are-some-advantages-of-using-a-random-forest-over-a-decision-tree-given-that-a-decision-tree-is-simpler)\n",
        "*\t[A Complete Tutorial on Tree Based Modeling from Scratch](https://www.analyticsvidhya.com/blog/2016/04/complete-tutorial-tree-based-modeling-scratch-in-python/)\n",
        "*\t[Sklearn documents of random forest](http://scikit-learn.org/stable/modules/generated/sklearn.ensemble.RandomForestClassifier.html)\n",
        "* [ImageSource](https://cdn5.vectorstock.com/i/1000x1000/88/99/city-and-forest-vector-1078899.jpg)\n",
        "\n",
        "\n"
      ]
    }
  ]
}